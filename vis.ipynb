{
 "cells": [
  {
   "cell_type": "code",
   "execution_count": 1,
   "metadata": {},
   "outputs": [
    {
     "name": "stdout",
     "output_type": "stream",
     "text": [
      "Using downloaded and verified file: /media/caduser/MyBook/chau/.cache/flickr30k/annotations/train.json\n",
      "Using downloaded and verified file: /media/caduser/MyBook/chau/.cache/flickr30k/annotations/val.json\n",
      "Using downloaded and verified file: /media/caduser/MyBook/chau/.cache/flickr30k/annotations/test.json\n"
     ]
    }
   ],
   "source": [
    "from lavis.datasets.builders import load_dataset\n",
    "from lavis.models import load_model_and_preprocess\n",
    "from dotenv import load_dotenv\n",
    "FLICKR_PATH='/media/caduser/MyBook/chau/.cache/flickr30k/images'\n",
    "model, vis_processors, txt_processors = load_model_and_preprocess(\"blip_retrieval\", \"coco\", is_eval=False)\n",
    "dataset = load_dataset(\"flickr30k\", vis_path=FLICKR_PATH, cfg_path=None)\n"
   ]
  },
  {
   "cell_type": "code",
   "execution_count": 3,
   "metadata": {},
   "outputs": [
    {
     "data": {
      "text/plain": [
       "{'image': <PIL.Image.Image image mode=RGB size=333x500>,\n",
       " 'text_input': 'Two young guys with shaggy hair look at their hands while hanging out in the yard.',\n",
       " 'image_id': 0,\n",
       " 'instance_id': '0'}"
      ]
     },
     "execution_count": 3,
     "metadata": {},
     "output_type": "execute_result"
    }
   ],
   "source": [
    "dataset['train'][0]['']"
   ]
  },
  {
   "cell_type": "code",
   "execution_count": null,
   "metadata": {},
   "outputs": [],
   "source": []
  }
 ],
 "metadata": {
  "kernelspec": {
   "display_name": "PiToMe",
   "language": "python",
   "name": "python3"
  },
  "language_info": {
   "codemirror_mode": {
    "name": "ipython",
    "version": 3
   },
   "file_extension": ".py",
   "mimetype": "text/x-python",
   "name": "python",
   "nbconvert_exporter": "python",
   "pygments_lexer": "ipython3",
   "version": "3.11.7"
  }
 },
 "nbformat": 4,
 "nbformat_minor": 2
}
