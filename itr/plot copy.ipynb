{
 "cells": [
  {
   "cell_type": "code",
   "execution_count": null,
   "metadata": {},
   "outputs": [],
   "source": [
    "import numpy as np\n",
    "import seaborn as sns\n",
    "import matplotlib.pyplot as plt\n",
    "\n",
    "# Create sample data\n",
    "x = np.linspace(0, 10, 100)\n",
    "y1 = np.sin(x)\n",
    "y2 = np.cos(x)\n",
    "gradient_column = np.linspace(0, 1, 100)  # Replace this with your actual gradient column\n",
    "\n",
    "# Create a DataFrame\n",
    "custom_palette = {'baseline':'grey', 'PiToMe': 'red', 'ToMe': 'blue', 'dct': 'green' }\n",
    "custom_line_styles = {'baseline':'grey','PiToMe': '-', 'ToMe': '--', 'dct': ':', 'baseline':'.'}\n",
    "\n",
    "\n",
    "palette = sns.color_palette(\"rocket_r\")\n",
    "# Plot line with gradient color based on the 'Gradient' column\n",
    "sns.lineplot(x='gflops', y='test/r_all', hue='algo', style='algo', markers=True, dashes=True,\n",
    "             palette=custom_palette, style_order=custom_line_styles.keys(), size=100,\n",
    "             data=results)\n"
   ]
  },
  {
   "cell_type": "code",
   "execution_count": null,
   "metadata": {},
   "outputs": [],
   "source": [
    "\n",
    "f, ax = plt.subplots(figsize=(6.5, 6.5))\n",
    "sns.lineplot(x=\"gflops\", y=\"test/r_all\",\n",
    "                style='algo', marker=True, \n",
    "                sizes=(1, 8), linewidth=0,\n",
    "                data=results, ax=ax)"
   ]
  },
  {
   "cell_type": "code",
   "execution_count": null,
   "metadata": {},
   "outputs": [],
   "source": []
  },
  {
   "cell_type": "code",
   "execution_count": null,
   "metadata": {},
   "outputs": [],
   "source": []
  }
 ],
 "metadata": {
  "kernelspec": {
   "display_name": "PiToMe",
   "language": "python",
   "name": "python3"
  },
  "language_info": {
   "codemirror_mode": {
    "name": "ipython",
    "version": 3
   },
   "file_extension": ".py",
   "mimetype": "text/x-python",
   "name": "python",
   "nbconvert_exporter": "python",
   "pygments_lexer": "ipython3",
   "version": "3.11.7"
  }
 },
 "nbformat": 4,
 "nbformat_minor": 2
}
