{
 "cells": [
  {
   "cell_type": "code",
   "execution_count": 2,
   "metadata": {},
   "outputs": [
    {
     "name": "stdout",
     "output_type": "stream",
     "text": [
      "Using downloaded and verified file: /media/caduser/MyBook/chau/.cache/flickr30k/annotations/train.json\n",
      "Using downloaded and verified file: /media/caduser/MyBook/chau/.cache/flickr30k/annotations/val.json\n",
      "Using downloaded and verified file: /media/caduser/MyBook/chau/.cache/flickr30k/annotations/test.json\n"
     ]
    }
   ],
   "source": [
    "from lavis.datasets.builders import load_dataset\n",
    "from lavis.models import load_model_and_preprocess\n",
    "from dotenv import load_dotenv\n",
    "from PIL import Image\n",
    "from algo import (\n",
    "    PITOME,\n",
    "    TOME,\n",
    "    DIFFRATE,\n",
    "    DCT,\n",
    "    TOFU,\n",
    "    LTMP,\n",
    "    NONE, \n",
    "    pitome,\n",
    "    tome,\n",
    "    DiffRate,\n",
    "    tofu,\n",
    "    # ltmp\n",
    ")\n",
    "\n",
    "FLICKR_PATH='/media/caduser/MyBook/chau/.cache/flickr30k/images'\n",
    "model, vis_processors, txt_processors = load_model_and_preprocess(\"blip_retrieval\", \"coco\", is_eval=False)\n",
    "dataset = load_dataset(\"flickr30k\", vis_path=FLICKR_PATH, cfg_path=None)\n"
   ]
  },
  {
   "cell_type": "code",
   "execution_count": 3,
   "metadata": {},
   "outputs": [
    {
     "data": {
      "text/plain": [
       "{'train': <lavis.datasets.datasets.retrieval_datasets.RetrievalDataset at 0x7f60348f6e10>,\n",
       " 'val': <lavis.datasets.datasets.retrieval_datasets.RetrievalEvalDataset at 0x7f5f8246aa50>,\n",
       " 'test': <lavis.datasets.datasets.retrieval_datasets.RetrievalEvalDataset at 0x7f5f50fddc10>}"
      ]
     },
     "execution_count": 3,
     "metadata": {},
     "output_type": "execute_result"
    }
   ],
   "source": [
    "dataset"
   ]
  },
  {
   "cell_type": "code",
   "execution_count": 16,
   "metadata": {},
   "outputs": [
    {
     "data": {
      "text/plain": [
       "tensor([[[-1.7777, -1.7631, -1.7485,  ...,  1.4924,  1.4048,  1.4340],\n",
       "         [-1.7339, -1.7339, -1.7339,  ...,  1.7114,  1.4486,  1.3464],\n",
       "         [-1.7631, -1.7485, -1.7047,  ...,  0.6457,  0.8355,  1.4924],\n",
       "         ...,\n",
       "         [-0.7558,  0.1493,  0.3391,  ..., -0.1718,  0.5727, -0.0113],\n",
       "         [ 1.0544,  0.6749,  0.2223,  ...,  0.1785,  0.2807,  0.1639],\n",
       "         [ 0.5289,  0.7041,  0.7625,  ...,  0.6749,  0.7625, -0.0696]],\n",
       "\n",
       "        [[-1.6470, -1.6621, -1.6771,  ...,  2.0149,  2.0149,  1.9998],\n",
       "         [-1.6621, -1.6771, -1.6621,  ...,  2.0749,  2.0149,  1.9848],\n",
       "         [-1.7221, -1.7071, -1.6621,  ...,  1.4896,  1.6847,  2.0449],\n",
       "         ...,\n",
       "         [-0.3564,  0.6041,  0.7992,  ...,  0.4841,  1.0844,  0.6942],\n",
       "         [ 1.3695,  1.0544,  0.6491,  ...,  0.8593,  0.9343,  0.9943],\n",
       "         [ 0.8292,  1.2044,  1.2945,  ...,  1.1444,  1.0994,  0.3790]],\n",
       "\n",
       "        [[-1.4091, -1.4091, -1.4233,  ...,  2.1317,  2.1459,  2.0890],\n",
       "         [-1.4091, -1.4233, -1.4091,  ...,  2.1459,  2.1317,  2.1175],\n",
       "         [-1.4518, -1.4376, -1.3949,  ...,  1.6055,  1.7193,  2.1175],\n",
       "         ...,\n",
       "         [-0.6697,  0.0555, -0.1862,  ..., -0.3142,  0.5248, -0.3568],\n",
       "         [ 0.7666,  0.3542,  0.1266,  ...,  0.0982,  0.1266, -0.1009],\n",
       "         [-0.0582,  0.6528,  0.6955,  ...,  0.4253,  0.4679, -0.3853]]])"
      ]
     },
     "execution_count": 16,
     "metadata": {},
     "output_type": "execute_result"
    }
   ],
   "source": [
    "\n",
    "from lavis.common.registry import registry\n",
    "from lavis.processors.base_processor import BaseProcessor\n",
    "from lavis.processors.randaugment import RandomAugment\n",
    "from omegaconf import OmegaConf\n",
    "from torchvision import transforms\n",
    "from torchvision.transforms.functional import InterpolationMode\n",
    "from lavis.processors.blip_processors import BlipImageBaseProcessor\n",
    "\n",
    "\n",
    "# Make sure the transform is correct for your model!\n",
    "class BlipImageEvalProcessor(BlipImageBaseProcessor):\n",
    "    def __init__(self, image_size=384, mean=None, std=None):\n",
    "        super().__init__(mean=mean, std=std)\n",
    "\n",
    "        self.transform = transforms.Compose(\n",
    "            [\n",
    "                transforms.Resize(\n",
    "                    (image_size, image_size), interpolation=InterpolationMode.BICUBIC\n",
    "                ),\n",
    "                transforms.ToTensor(),\n",
    "                self.normalize,\n",
    "            ]\n",
    "        )\n",
    "\n",
    "    def __call__(self, item):\n",
    "        return self.transform(item)\n",
    "\n",
    "    @classmethod\n",
    "    def from_config(cls, cfg=None):\n",
    "        if cfg is None:\n",
    "            cfg = OmegaConf.create()\n",
    "\n",
    "        image_size = cfg.get(\"image_size\", 384)\n",
    "\n",
    "        mean = cfg.get(\"mean\", None)\n",
    "        std = cfg.get(\"std\", None)\n",
    "\n",
    "        return cls(image_size=image_size, mean=mean, std=std)\n",
    "\n",
    "\n",
    "blip_processor = BlipImageEvalProcessor()\n",
    "img = dataset['train'][0]['image']\n",
    "img_input = blip_processor(img)\n",
    "img "
   ]
  },
  {
   "cell_type": "code",
   "execution_count": null,
   "metadata": {},
   "outputs": [],
   "source": []
  },
  {
   "cell_type": "code",
   "execution_count": null,
   "metadata": {},
   "outputs": [],
   "source": []
  },
  {
   "cell_type": "code",
   "execution_count": null,
   "metadata": {},
   "outputs": [],
   "source": []
  },
  {
   "cell_type": "code",
   "execution_count": 9,
   "metadata": {},
   "outputs": [
    {
     "data": {
      "text/plain": [
       "{'train': <lavis.processors.blip_processors.BlipImageTrainProcessor at 0x7f60df09afd0>,\n",
       " 'eval': <lavis.processors.blip_processors.BlipImageEvalProcessor at 0x7f60f046fd50>}"
      ]
     },
     "execution_count": 9,
     "metadata": {},
     "output_type": "execute_result"
    }
   ],
   "source": []
  },
  {
   "cell_type": "code",
   "execution_count": null,
   "metadata": {},
   "outputs": [],
   "source": []
  }
 ],
 "metadata": {
  "kernelspec": {
   "display_name": "PiToMe",
   "language": "python",
   "name": "python3"
  },
  "language_info": {
   "codemirror_mode": {
    "name": "ipython",
    "version": 3
   },
   "file_extension": ".py",
   "mimetype": "text/x-python",
   "name": "python",
   "nbconvert_exporter": "python",
   "pygments_lexer": "ipython3",
   "version": "3.11.7"
  }
 },
 "nbformat": 4,
 "nbformat_minor": 2
}
