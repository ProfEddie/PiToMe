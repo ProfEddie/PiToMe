{
 "cells": [
  {
   "cell_type": "code",
   "execution_count": 1,
   "metadata": {},
   "outputs": [
    {
     "name": "stdout",
     "output_type": "stream",
     "text": [
      "Getting CLIP processor...\n",
      "Using downloaded and verified file: /media/caduser/MyBook/chau/.cache/coco/annotations/coco_karpathy_train.json\n",
      "Using downloaded and verified file: /media/caduser/MyBook/chau/.cache/coco/annotations/coco_karpathy_val.json\n",
      "Using downloaded and verified file: /media/caduser/MyBook/chau/.cache/coco/annotations/coco_karpathy_test.json\n",
      "trainable params: 8,921,088 || all params: 158,541,825 || trainable%: 5.6269618442956615\n"
     ]
    },
    {
     "name": "stderr",
     "output_type": "stream",
     "text": [
      "WARNING:accelerate.utils.other:Detected kernel version 5.4.0, which is below the recommended minimum of 5.5.0; this can cause the process to hang. It is recommended to upgrade the kernel to the minimum version or higher.\n"
     ]
    },
    {
     "name": "stdout",
     "output_type": "stream",
     "text": [
      "RUNNING: clip_base_16_PiToMe_0.875_12_12\n",
      "trainable parameters: 8921103\n",
      "Evaluating current epoch 0\n"
     ]
    },
    {
     "data": {
      "application/vnd.jupyter.widget-view+json": {
       "model_id": "325b6658f8194f56803dd16d61d34cf8",
       "version_major": 2,
       "version_minor": 0
      },
      "text/plain": [
       "  0%|          | 0/100 [00:00<?, ?it/s]"
      ]
     },
     "metadata": {},
     "output_type": "display_data"
    },
    {
     "name": "stdout",
     "output_type": "stream",
     "text": [
      "Getting CLIP processor...\n",
      "Using downloaded and verified file: /media/caduser/MyBook/chau/.cache/coco/annotations/coco_karpathy_train.json\n",
      "Using downloaded and verified file: /media/caduser/MyBook/chau/.cache/coco/annotations/coco_karpathy_val.json\n",
      "Using downloaded and verified file: /media/caduser/MyBook/chau/.cache/coco/annotations/coco_karpathy_test.json\n",
      "trainable params: 8,921,088 || all params: 158,541,825 || trainable%: 5.6269618442956615\n"
     ]
    },
    {
     "name": "stderr",
     "output_type": "stream",
     "text": [
      "WARNING:accelerate.utils.other:Detected kernel version 5.4.0, which is below the recommended minimum of 5.5.0; this can cause the process to hang. It is recommended to upgrade the kernel to the minimum version or higher.\n"
     ]
    },
    {
     "name": "stdout",
     "output_type": "stream",
     "text": [
      "RUNNING: clip_base_16_PiToMe_0.9_12_12\n",
      "trainable parameters: 8921103\n",
      "Evaluating current epoch 0\n"
     ]
    },
    {
     "data": {
      "application/vnd.jupyter.widget-view+json": {
       "model_id": "051bf83d2d9143a1a4ba8bc9ef53215e",
       "version_major": 2,
       "version_minor": 0
      },
      "text/plain": [
       "  0%|          | 0/100 [00:00<?, ?it/s]"
      ]
     },
     "metadata": {},
     "output_type": "display_data"
    },
    {
     "name": "stdout",
     "output_type": "stream",
     "text": [
      "Getting CLIP processor...\n",
      "Using downloaded and verified file: /media/caduser/MyBook/chau/.cache/coco/annotations/coco_karpathy_train.json\n",
      "Using downloaded and verified file: /media/caduser/MyBook/chau/.cache/coco/annotations/coco_karpathy_val.json\n",
      "Using downloaded and verified file: /media/caduser/MyBook/chau/.cache/coco/annotations/coco_karpathy_test.json\n",
      "trainable params: 8,921,088 || all params: 158,541,825 || trainable%: 5.6269618442956615\n"
     ]
    },
    {
     "name": "stderr",
     "output_type": "stream",
     "text": [
      "WARNING:accelerate.utils.other:Detected kernel version 5.4.0, which is below the recommended minimum of 5.5.0; this can cause the process to hang. It is recommended to upgrade the kernel to the minimum version or higher.\n"
     ]
    },
    {
     "name": "stdout",
     "output_type": "stream",
     "text": [
      "RUNNING: clip_base_16_PiToMe_0.925_12_12\n",
      "trainable parameters: 8921103\n",
      "Evaluating current epoch 0\n"
     ]
    },
    {
     "data": {
      "application/vnd.jupyter.widget-view+json": {
       "model_id": "53c443efa8ce4280b9851dca0bf7b848",
       "version_major": 2,
       "version_minor": 0
      },
      "text/plain": [
       "  0%|          | 0/100 [00:00<?, ?it/s]"
      ]
     },
     "metadata": {},
     "output_type": "display_data"
    },
    {
     "name": "stdout",
     "output_type": "stream",
     "text": [
      "Getting CLIP processor...\n",
      "Using downloaded and verified file: /media/caduser/MyBook/chau/.cache/coco/annotations/coco_karpathy_train.json\n",
      "Using downloaded and verified file: /media/caduser/MyBook/chau/.cache/coco/annotations/coco_karpathy_val.json\n",
      "Using downloaded and verified file: /media/caduser/MyBook/chau/.cache/coco/annotations/coco_karpathy_test.json\n",
      "trainable params: 8,921,088 || all params: 158,541,825 || trainable%: 5.6269618442956615\n"
     ]
    },
    {
     "name": "stderr",
     "output_type": "stream",
     "text": [
      "WARNING:accelerate.utils.other:Detected kernel version 5.4.0, which is below the recommended minimum of 5.5.0; this can cause the process to hang. It is recommended to upgrade the kernel to the minimum version or higher.\n"
     ]
    },
    {
     "name": "stdout",
     "output_type": "stream",
     "text": [
      "RUNNING: clip_base_16_PiToMe_0.95_12_12\n",
      "trainable parameters: 8921103\n",
      "Evaluating current epoch 0\n"
     ]
    },
    {
     "data": {
      "application/vnd.jupyter.widget-view+json": {
       "model_id": "1b136f622e294e77901d693f21e86126",
       "version_major": 2,
       "version_minor": 0
      },
      "text/plain": [
       "  0%|          | 0/100 [00:00<?, ?it/s]"
      ]
     },
     "metadata": {},
     "output_type": "display_data"
    },
    {
     "name": "stdout",
     "output_type": "stream",
     "text": [
      "Getting CLIP processor...\n",
      "Using downloaded and verified file: /media/caduser/MyBook/chau/.cache/coco/annotations/coco_karpathy_train.json\n",
      "Using downloaded and verified file: /media/caduser/MyBook/chau/.cache/coco/annotations/coco_karpathy_val.json\n",
      "Using downloaded and verified file: /media/caduser/MyBook/chau/.cache/coco/annotations/coco_karpathy_test.json\n",
      "trainable params: 8,921,088 || all params: 158,541,825 || trainable%: 5.6269618442956615\n"
     ]
    },
    {
     "name": "stderr",
     "output_type": "stream",
     "text": [
      "WARNING:accelerate.utils.other:Detected kernel version 5.4.0, which is below the recommended minimum of 5.5.0; this can cause the process to hang. It is recommended to upgrade the kernel to the minimum version or higher.\n"
     ]
    },
    {
     "name": "stdout",
     "output_type": "stream",
     "text": [
      "RUNNING: clip_base_16_PiToMe_0.975_12_12\n",
      "trainable parameters: 8921103\n",
      "Evaluating current epoch 0\n"
     ]
    },
    {
     "data": {
      "application/vnd.jupyter.widget-view+json": {
       "model_id": "b76e023441d4483a8645f3a00c84ea27",
       "version_major": 2,
       "version_minor": 0
      },
      "text/plain": [
       "  0%|          | 0/100 [00:00<?, ?it/s]"
      ]
     },
     "metadata": {},
     "output_type": "display_data"
    },
    {
     "name": "stdout",
     "output_type": "stream",
     "text": [
      "Getting CLIP processor...\n",
      "Using downloaded and verified file: /media/caduser/MyBook/chau/.cache/coco/annotations/coco_karpathy_train.json\n",
      "Using downloaded and verified file: /media/caduser/MyBook/chau/.cache/coco/annotations/coco_karpathy_val.json\n",
      "Using downloaded and verified file: /media/caduser/MyBook/chau/.cache/coco/annotations/coco_karpathy_test.json\n",
      "trainable params: 8,921,088 || all params: 158,541,825 || trainable%: 5.6269618442956615\n"
     ]
    },
    {
     "name": "stderr",
     "output_type": "stream",
     "text": [
      "WARNING:accelerate.utils.other:Detected kernel version 5.4.0, which is below the recommended minimum of 5.5.0; this can cause the process to hang. It is recommended to upgrade the kernel to the minimum version or higher.\n"
     ]
    },
    {
     "name": "stdout",
     "output_type": "stream",
     "text": [
      "RUNNING: clip_base_16_ToMe_0.875_12_12\n",
      "trainable parameters: 8921103\n",
      "Evaluating current epoch 0\n"
     ]
    },
    {
     "data": {
      "application/vnd.jupyter.widget-view+json": {
       "model_id": "f4ffa39574cd4251aa97785d857ab5f0",
       "version_major": 2,
       "version_minor": 0
      },
      "text/plain": [
       "  0%|          | 0/100 [00:00<?, ?it/s]"
      ]
     },
     "metadata": {},
     "output_type": "display_data"
    },
    {
     "name": "stdout",
     "output_type": "stream",
     "text": [
      "Getting CLIP processor...\n",
      "Using downloaded and verified file: /media/caduser/MyBook/chau/.cache/coco/annotations/coco_karpathy_train.json\n",
      "Using downloaded and verified file: /media/caduser/MyBook/chau/.cache/coco/annotations/coco_karpathy_val.json\n",
      "Using downloaded and verified file: /media/caduser/MyBook/chau/.cache/coco/annotations/coco_karpathy_test.json\n",
      "trainable params: 8,921,088 || all params: 158,541,825 || trainable%: 5.6269618442956615\n"
     ]
    },
    {
     "name": "stderr",
     "output_type": "stream",
     "text": [
      "WARNING:accelerate.utils.other:Detected kernel version 5.4.0, which is below the recommended minimum of 5.5.0; this can cause the process to hang. It is recommended to upgrade the kernel to the minimum version or higher.\n"
     ]
    },
    {
     "name": "stdout",
     "output_type": "stream",
     "text": [
      "RUNNING: clip_base_16_ToMe_0.9_12_12\n",
      "trainable parameters: 8921103\n",
      "Evaluating current epoch 0\n"
     ]
    },
    {
     "data": {
      "application/vnd.jupyter.widget-view+json": {
       "model_id": "ad741f2212b94f97adc30876f4ddf330",
       "version_major": 2,
       "version_minor": 0
      },
      "text/plain": [
       "  0%|          | 0/100 [00:00<?, ?it/s]"
      ]
     },
     "metadata": {},
     "output_type": "display_data"
    },
    {
     "name": "stdout",
     "output_type": "stream",
     "text": [
      "Getting CLIP processor...\n",
      "Using downloaded and verified file: /media/caduser/MyBook/chau/.cache/coco/annotations/coco_karpathy_train.json\n",
      "Using downloaded and verified file: /media/caduser/MyBook/chau/.cache/coco/annotations/coco_karpathy_val.json\n",
      "Using downloaded and verified file: /media/caduser/MyBook/chau/.cache/coco/annotations/coco_karpathy_test.json\n",
      "trainable params: 8,921,088 || all params: 158,541,825 || trainable%: 5.6269618442956615\n"
     ]
    },
    {
     "name": "stderr",
     "output_type": "stream",
     "text": [
      "WARNING:accelerate.utils.other:Detected kernel version 5.4.0, which is below the recommended minimum of 5.5.0; this can cause the process to hang. It is recommended to upgrade the kernel to the minimum version or higher.\n"
     ]
    },
    {
     "name": "stdout",
     "output_type": "stream",
     "text": [
      "RUNNING: clip_base_16_ToMe_0.925_12_12\n",
      "trainable parameters: 8921103\n",
      "Evaluating current epoch 0\n"
     ]
    },
    {
     "data": {
      "application/vnd.jupyter.widget-view+json": {
       "model_id": "89ee6464611443f9a858d37d82058705",
       "version_major": 2,
       "version_minor": 0
      },
      "text/plain": [
       "  0%|          | 0/100 [00:00<?, ?it/s]"
      ]
     },
     "metadata": {},
     "output_type": "display_data"
    },
    {
     "name": "stdout",
     "output_type": "stream",
     "text": [
      "Getting CLIP processor...\n",
      "Using downloaded and verified file: /media/caduser/MyBook/chau/.cache/coco/annotations/coco_karpathy_train.json\n",
      "Using downloaded and verified file: /media/caduser/MyBook/chau/.cache/coco/annotations/coco_karpathy_val.json\n",
      "Using downloaded and verified file: /media/caduser/MyBook/chau/.cache/coco/annotations/coco_karpathy_test.json\n",
      "trainable params: 8,921,088 || all params: 158,541,825 || trainable%: 5.6269618442956615\n"
     ]
    },
    {
     "name": "stderr",
     "output_type": "stream",
     "text": [
      "WARNING:accelerate.utils.other:Detected kernel version 5.4.0, which is below the recommended minimum of 5.5.0; this can cause the process to hang. It is recommended to upgrade the kernel to the minimum version or higher.\n"
     ]
    },
    {
     "name": "stdout",
     "output_type": "stream",
     "text": [
      "RUNNING: clip_base_16_ToMe_0.95_12_12\n",
      "trainable parameters: 8921103\n",
      "Evaluating current epoch 0\n"
     ]
    },
    {
     "data": {
      "application/vnd.jupyter.widget-view+json": {
       "model_id": "175d718e0166455482bf11d4bb15b181",
       "version_major": 2,
       "version_minor": 0
      },
      "text/plain": [
       "  0%|          | 0/100 [00:00<?, ?it/s]"
      ]
     },
     "metadata": {},
     "output_type": "display_data"
    },
    {
     "name": "stdout",
     "output_type": "stream",
     "text": [
      "Getting CLIP processor...\n",
      "Using downloaded and verified file: /media/caduser/MyBook/chau/.cache/coco/annotations/coco_karpathy_train.json\n",
      "Using downloaded and verified file: /media/caduser/MyBook/chau/.cache/coco/annotations/coco_karpathy_val.json\n",
      "Using downloaded and verified file: /media/caduser/MyBook/chau/.cache/coco/annotations/coco_karpathy_test.json\n",
      "trainable params: 8,921,088 || all params: 158,541,825 || trainable%: 5.6269618442956615\n"
     ]
    },
    {
     "name": "stderr",
     "output_type": "stream",
     "text": [
      "WARNING:accelerate.utils.other:Detected kernel version 5.4.0, which is below the recommended minimum of 5.5.0; this can cause the process to hang. It is recommended to upgrade the kernel to the minimum version or higher.\n"
     ]
    },
    {
     "name": "stdout",
     "output_type": "stream",
     "text": [
      "RUNNING: clip_base_16_ToMe_0.975_12_12\n",
      "trainable parameters: 8921103\n",
      "Evaluating current epoch 0\n"
     ]
    },
    {
     "data": {
      "application/vnd.jupyter.widget-view+json": {
       "model_id": "67d1239fb77e4f7d802c816acb90a8b2",
       "version_major": 2,
       "version_minor": 0
      },
      "text/plain": [
       "  0%|          | 0/100 [00:00<?, ?it/s]"
      ]
     },
     "metadata": {},
     "output_type": "display_data"
    },
    {
     "name": "stdout",
     "output_type": "stream",
     "text": [
      "Getting CLIP processor...\n",
      "Using downloaded and verified file: /media/caduser/MyBook/chau/.cache/coco/annotations/coco_karpathy_train.json\n",
      "Using downloaded and verified file: /media/caduser/MyBook/chau/.cache/coco/annotations/coco_karpathy_val.json\n",
      "Using downloaded and verified file: /media/caduser/MyBook/chau/.cache/coco/annotations/coco_karpathy_test.json\n",
      "trainable params: 8,921,088 || all params: 158,541,825 || trainable%: 5.6269618442956615\n"
     ]
    },
    {
     "name": "stderr",
     "output_type": "stream",
     "text": [
      "WARNING:accelerate.utils.other:Detected kernel version 5.4.0, which is below the recommended minimum of 5.5.0; this can cause the process to hang. It is recommended to upgrade the kernel to the minimum version or higher.\n"
     ]
    },
    {
     "name": "stdout",
     "output_type": "stream",
     "text": [
      "RUNNING: clip_base_16_dct_0.875_12_12\n",
      "trainable parameters: 8921103\n",
      "Evaluating current epoch 0\n"
     ]
    },
    {
     "data": {
      "application/vnd.jupyter.widget-view+json": {
       "model_id": "6f60ea62429d42a0a87df3b48686a697",
       "version_major": 2,
       "version_minor": 0
      },
      "text/plain": [
       "  0%|          | 0/100 [00:00<?, ?it/s]"
      ]
     },
     "metadata": {},
     "output_type": "display_data"
    },
    {
     "name": "stdout",
     "output_type": "stream",
     "text": [
      "Getting CLIP processor...\n",
      "Using downloaded and verified file: /media/caduser/MyBook/chau/.cache/coco/annotations/coco_karpathy_train.json\n",
      "Using downloaded and verified file: /media/caduser/MyBook/chau/.cache/coco/annotations/coco_karpathy_val.json\n",
      "Using downloaded and verified file: /media/caduser/MyBook/chau/.cache/coco/annotations/coco_karpathy_test.json\n",
      "trainable params: 8,921,088 || all params: 158,541,825 || trainable%: 5.6269618442956615\n"
     ]
    },
    {
     "name": "stderr",
     "output_type": "stream",
     "text": [
      "WARNING:accelerate.utils.other:Detected kernel version 5.4.0, which is below the recommended minimum of 5.5.0; this can cause the process to hang. It is recommended to upgrade the kernel to the minimum version or higher.\n"
     ]
    },
    {
     "name": "stdout",
     "output_type": "stream",
     "text": [
      "RUNNING: clip_base_16_dct_0.9_12_12\n",
      "trainable parameters: 8921103\n",
      "Evaluating current epoch 0\n"
     ]
    },
    {
     "data": {
      "application/vnd.jupyter.widget-view+json": {
       "model_id": "20c25876ac1c462c98b19be02ffd178f",
       "version_major": 2,
       "version_minor": 0
      },
      "text/plain": [
       "  0%|          | 0/100 [00:00<?, ?it/s]"
      ]
     },
     "metadata": {},
     "output_type": "display_data"
    },
    {
     "name": "stdout",
     "output_type": "stream",
     "text": [
      "Getting CLIP processor...\n",
      "Using downloaded and verified file: /media/caduser/MyBook/chau/.cache/coco/annotations/coco_karpathy_train.json\n",
      "Using downloaded and verified file: /media/caduser/MyBook/chau/.cache/coco/annotations/coco_karpathy_val.json\n",
      "Using downloaded and verified file: /media/caduser/MyBook/chau/.cache/coco/annotations/coco_karpathy_test.json\n",
      "trainable params: 8,921,088 || all params: 158,541,825 || trainable%: 5.6269618442956615\n"
     ]
    },
    {
     "name": "stderr",
     "output_type": "stream",
     "text": [
      "WARNING:accelerate.utils.other:Detected kernel version 5.4.0, which is below the recommended minimum of 5.5.0; this can cause the process to hang. It is recommended to upgrade the kernel to the minimum version or higher.\n"
     ]
    },
    {
     "name": "stdout",
     "output_type": "stream",
     "text": [
      "RUNNING: clip_base_16_dct_0.925_12_12\n",
      "trainable parameters: 8921103\n",
      "Evaluating current epoch 0\n"
     ]
    },
    {
     "data": {
      "application/vnd.jupyter.widget-view+json": {
       "model_id": "f0c9fba767df4edf872135d7bc9bbae5",
       "version_major": 2,
       "version_minor": 0
      },
      "text/plain": [
       "  0%|          | 0/100 [00:00<?, ?it/s]"
      ]
     },
     "metadata": {},
     "output_type": "display_data"
    },
    {
     "name": "stdout",
     "output_type": "stream",
     "text": [
      "Getting CLIP processor...\n",
      "Using downloaded and verified file: /media/caduser/MyBook/chau/.cache/coco/annotations/coco_karpathy_train.json\n",
      "Using downloaded and verified file: /media/caduser/MyBook/chau/.cache/coco/annotations/coco_karpathy_val.json\n",
      "Using downloaded and verified file: /media/caduser/MyBook/chau/.cache/coco/annotations/coco_karpathy_test.json\n",
      "trainable params: 8,921,088 || all params: 158,541,825 || trainable%: 5.6269618442956615\n"
     ]
    },
    {
     "name": "stderr",
     "output_type": "stream",
     "text": [
      "WARNING:accelerate.utils.other:Detected kernel version 5.4.0, which is below the recommended minimum of 5.5.0; this can cause the process to hang. It is recommended to upgrade the kernel to the minimum version or higher.\n"
     ]
    },
    {
     "name": "stdout",
     "output_type": "stream",
     "text": [
      "RUNNING: clip_base_16_dct_0.95_12_12\n",
      "trainable parameters: 8921103\n",
      "Evaluating current epoch 0\n"
     ]
    },
    {
     "data": {
      "application/vnd.jupyter.widget-view+json": {
       "model_id": "3e710801d4d2460ca36fb48a30d32670",
       "version_major": 2,
       "version_minor": 0
      },
      "text/plain": [
       "  0%|          | 0/100 [00:00<?, ?it/s]"
      ]
     },
     "metadata": {},
     "output_type": "display_data"
    },
    {
     "name": "stdout",
     "output_type": "stream",
     "text": [
      "Getting CLIP processor...\n",
      "Using downloaded and verified file: /media/caduser/MyBook/chau/.cache/coco/annotations/coco_karpathy_train.json\n",
      "Using downloaded and verified file: /media/caduser/MyBook/chau/.cache/coco/annotations/coco_karpathy_val.json\n",
      "Using downloaded and verified file: /media/caduser/MyBook/chau/.cache/coco/annotations/coco_karpathy_test.json\n",
      "trainable params: 8,921,088 || all params: 158,541,825 || trainable%: 5.6269618442956615\n"
     ]
    },
    {
     "name": "stderr",
     "output_type": "stream",
     "text": [
      "WARNING:accelerate.utils.other:Detected kernel version 5.4.0, which is below the recommended minimum of 5.5.0; this can cause the process to hang. It is recommended to upgrade the kernel to the minimum version or higher.\n"
     ]
    },
    {
     "name": "stdout",
     "output_type": "stream",
     "text": [
      "RUNNING: clip_base_16_dct_0.975_12_12\n",
      "trainable parameters: 8921103\n",
      "Evaluating current epoch 0\n"
     ]
    },
    {
     "data": {
      "application/vnd.jupyter.widget-view+json": {
       "model_id": "48cfdff37f5d4b3fa6455d08e1932966",
       "version_major": 2,
       "version_minor": 0
      },
      "text/plain": [
       "  0%|          | 0/100 [00:00<?, ?it/s]"
      ]
     },
     "metadata": {},
     "output_type": "display_data"
    },
    {
     "name": "stdout",
     "output_type": "stream",
     "text": [
      "Getting CLIP processor...\n",
      "Using downloaded and verified file: /media/caduser/MyBook/chau/.cache/coco/annotations/coco_karpathy_train.json\n",
      "Using downloaded and verified file: /media/caduser/MyBook/chau/.cache/coco/annotations/coco_karpathy_val.json\n",
      "Using downloaded and verified file: /media/caduser/MyBook/chau/.cache/coco/annotations/coco_karpathy_test.json\n",
      "trainable params: 8,921,088 || all params: 158,541,825 || trainable%: 5.6269618442956615\n"
     ]
    },
    {
     "name": "stderr",
     "output_type": "stream",
     "text": [
      "WARNING:accelerate.utils.other:Detected kernel version 5.4.0, which is below the recommended minimum of 5.5.0; this can cause the process to hang. It is recommended to upgrade the kernel to the minimum version or higher.\n"
     ]
    },
    {
     "name": "stdout",
     "output_type": "stream",
     "text": [
      "RUNNING: clip_base_16_baseline_0.875_12_12\n",
      "trainable parameters: 8921103\n",
      "Evaluating current epoch 0\n"
     ]
    },
    {
     "data": {
      "application/vnd.jupyter.widget-view+json": {
       "model_id": "2bf191d99d87401dae77db3b8648de0c",
       "version_major": 2,
       "version_minor": 0
      },
      "text/plain": [
       "  0%|          | 0/100 [00:00<?, ?it/s]"
      ]
     },
     "metadata": {},
     "output_type": "display_data"
    },
    {
     "name": "stdout",
     "output_type": "stream",
     "text": [
      "Getting CLIP processor...\n",
      "Using downloaded and verified file: /media/caduser/MyBook/chau/.cache/coco/annotations/coco_karpathy_train.json\n",
      "Using downloaded and verified file: /media/caduser/MyBook/chau/.cache/coco/annotations/coco_karpathy_val.json\n",
      "Using downloaded and verified file: /media/caduser/MyBook/chau/.cache/coco/annotations/coco_karpathy_test.json\n",
      "trainable params: 8,921,088 || all params: 158,541,825 || trainable%: 5.6269618442956615\n"
     ]
    },
    {
     "name": "stderr",
     "output_type": "stream",
     "text": [
      "WARNING:accelerate.utils.other:Detected kernel version 5.4.0, which is below the recommended minimum of 5.5.0; this can cause the process to hang. It is recommended to upgrade the kernel to the minimum version or higher.\n"
     ]
    },
    {
     "name": "stdout",
     "output_type": "stream",
     "text": [
      "RUNNING: clip_base_16_baseline_0.9_12_12\n",
      "trainable parameters: 8921103\n",
      "Evaluating current epoch 0\n"
     ]
    },
    {
     "data": {
      "application/vnd.jupyter.widget-view+json": {
       "model_id": "25c2679ed4bb4130854ade60dc4bb87a",
       "version_major": 2,
       "version_minor": 0
      },
      "text/plain": [
       "  0%|          | 0/100 [00:00<?, ?it/s]"
      ]
     },
     "metadata": {},
     "output_type": "display_data"
    },
    {
     "name": "stdout",
     "output_type": "stream",
     "text": [
      "Getting CLIP processor...\n",
      "Using downloaded and verified file: /media/caduser/MyBook/chau/.cache/coco/annotations/coco_karpathy_train.json\n",
      "Using downloaded and verified file: /media/caduser/MyBook/chau/.cache/coco/annotations/coco_karpathy_val.json\n",
      "Using downloaded and verified file: /media/caduser/MyBook/chau/.cache/coco/annotations/coco_karpathy_test.json\n",
      "trainable params: 8,921,088 || all params: 158,541,825 || trainable%: 5.6269618442956615\n"
     ]
    },
    {
     "name": "stderr",
     "output_type": "stream",
     "text": [
      "WARNING:accelerate.utils.other:Detected kernel version 5.4.0, which is below the recommended minimum of 5.5.0; this can cause the process to hang. It is recommended to upgrade the kernel to the minimum version or higher.\n"
     ]
    },
    {
     "name": "stdout",
     "output_type": "stream",
     "text": [
      "RUNNING: clip_base_16_baseline_0.925_12_12\n",
      "trainable parameters: 8921103\n",
      "Evaluating current epoch 0\n"
     ]
    },
    {
     "data": {
      "application/vnd.jupyter.widget-view+json": {
       "model_id": "6409b4751e8f4a17ae5026e1717b8dcb",
       "version_major": 2,
       "version_minor": 0
      },
      "text/plain": [
       "  0%|          | 0/100 [00:00<?, ?it/s]"
      ]
     },
     "metadata": {},
     "output_type": "display_data"
    },
    {
     "ename": "KeyboardInterrupt",
     "evalue": "",
     "output_type": "error",
     "traceback": [
      "\u001b[0;31m---------------------------------------------------------------------------\u001b[0m",
      "\u001b[0;31mKeyboardInterrupt\u001b[0m                         Traceback (most recent call last)",
      "Cell \u001b[0;32mIn[1], line 54\u001b[0m\n\u001b[1;32m     51\u001b[0m \u001b[38;5;28;01melif\u001b[39;00m \u001b[38;5;124m'\u001b[39m\u001b[38;5;124mblip\u001b[39m\u001b[38;5;124m'\u001b[39m \u001b[38;5;129;01min\u001b[39;00m model_ckt: \n\u001b[1;32m     52\u001b[0m     visualizer \u001b[38;5;241m=\u001b[39m BLIPRunner(config, algorithms\u001b[38;5;241m=\u001b[39malgo)\n\u001b[0;32m---> 54\u001b[0m metrics \u001b[38;5;241m=\u001b[39m \u001b[43mvisualizer\u001b[49m\u001b[38;5;241;43m.\u001b[39;49m\u001b[43mrun\u001b[49m\u001b[43m(\u001b[49m\u001b[43m)\u001b[49m\n\u001b[1;32m     55\u001b[0m metrics[\u001b[38;5;124m'\u001b[39m\u001b[38;5;124malgo\u001b[39m\u001b[38;5;124m'\u001b[39m] \u001b[38;5;241m=\u001b[39m algo \n\u001b[1;32m     56\u001b[0m metrics[\u001b[38;5;124m'\u001b[39m\u001b[38;5;124mmodel\u001b[39m\u001b[38;5;124m'\u001b[39m] \u001b[38;5;241m=\u001b[39m model_dict[model_ckt]\n",
      "File \u001b[0;32m/media/caduser/MyBook/DATA/vit_token_compress/PiToMe/itr/visuallizer.py:105\u001b[0m, in \u001b[0;36mrun\u001b[0;34m(self)\u001b[0m\n\u001b[1;32m     93\u001b[0m     \u001b[38;5;66;03m# model = BLIPWithQueue(config) \u001b[39;00m\n\u001b[1;32m     94\u001b[0m     \u001b[38;5;28mself\u001b[39m\u001b[38;5;241m.\u001b[39mtrainer \u001b[38;5;241m=\u001b[39m LavisTrainer(\n\u001b[1;32m     95\u001b[0m         model\u001b[38;5;241m=\u001b[39mqueue_model,\n\u001b[1;32m     96\u001b[0m         config\u001b[38;5;241m=\u001b[39mconfig,\n\u001b[0;32m   (...)\u001b[0m\n\u001b[1;32m    101\u001b[0m             img2txt\u001b[38;5;241m=\u001b[39mtest_img2txt\n\u001b[1;32m    102\u001b[0m         )\n\u001b[0;32m--> 105\u001b[0m \u001b[38;5;28;01mdef\u001b[39;00m \u001b[38;5;21mrun\u001b[39m(\u001b[38;5;28mself\u001b[39m):\n\u001b[1;32m    106\u001b[0m     \u001b[38;5;28;01mreturn\u001b[39;00m \u001b[38;5;28mself\u001b[39m\u001b[38;5;241m.\u001b[39mtrainer\u001b[38;5;241m.\u001b[39mevaluate()\n",
      "File \u001b[0;32m/media/caduser/MyBook/DATA/vit_token_compress/PiToMe/itr/trainer_queue.py:204\u001b[0m, in \u001b[0;36mMyTrainer.evaluate\u001b[0;34m(self, mode, use_1k)\u001b[0m\n\u001b[1;32m    199\u001b[0m \u001b[38;5;28;01mfor\u001b[39;00m data \u001b[38;5;129;01min\u001b[39;00m tqdm(loader):\n\u001b[1;32m    200\u001b[0m     text_embeds, _ \u001b[38;5;241m=\u001b[39m \u001b[38;5;28mself\u001b[39m\u001b[38;5;241m.\u001b[39mmodel\u001b[38;5;241m.\u001b[39mget_text_features(\n\u001b[1;32m    201\u001b[0m         input_ids\u001b[38;5;241m=\u001b[39mdata[\u001b[38;5;124m\"\u001b[39m\u001b[38;5;124minput_ids\u001b[39m\u001b[38;5;124m\"\u001b[39m]\u001b[38;5;241m.\u001b[39mto(\u001b[38;5;28mself\u001b[39m\u001b[38;5;241m.\u001b[39mdevice), attention_mask\u001b[38;5;241m=\u001b[39mdata[\u001b[38;5;124m\"\u001b[39m\u001b[38;5;124mattention_mask\u001b[39m\u001b[38;5;124m\"\u001b[39m]\u001b[38;5;241m.\u001b[39mto(\u001b[38;5;28mself\u001b[39m\u001b[38;5;241m.\u001b[39mdevice)\n\u001b[1;32m    202\u001b[0m     )\n\u001b[1;32m    203\u001b[0m     vision_embeds, _, flop ,eval_memory, _ \u001b[38;5;241m=\u001b[39m \u001b[38;5;28mself\u001b[39m\u001b[38;5;241m.\u001b[39mmodel\u001b[38;5;241m.\u001b[39mget_vision_features(\n\u001b[0;32m--> 204\u001b[0m         pixel_values\u001b[38;5;241m=\u001b[39m\u001b[43mdata\u001b[49m\u001b[43m[\u001b[49m\u001b[38;5;124;43m\"\u001b[39;49m\u001b[38;5;124;43mpixel_values\u001b[39;49m\u001b[38;5;124;43m\"\u001b[39;49m\u001b[43m]\u001b[49m\u001b[38;5;241;43m.\u001b[39;49m\u001b[43mto\u001b[49m\u001b[43m(\u001b[49m\u001b[38;5;28;43mself\u001b[39;49m\u001b[38;5;241;43m.\u001b[39;49m\u001b[43mdevice\u001b[49m\u001b[43m)\u001b[49m, return_source\u001b[38;5;241m=\u001b[39m\u001b[38;5;28;01mFalse\u001b[39;00m\n\u001b[1;32m    205\u001b[0m     )\n\u001b[1;32m    207\u001b[0m     all_text_embeds\u001b[38;5;241m.\u001b[39mappend(text_embeds\u001b[38;5;241m.\u001b[39mcpu())\n\u001b[1;32m    208\u001b[0m     all_vision_embeds\u001b[38;5;241m.\u001b[39mappend(vision_embeds\u001b[38;5;241m.\u001b[39mcpu())\n",
      "\u001b[0;31mKeyboardInterrupt\u001b[0m: "
     ]
    }
   ],
   "source": [
    "from visuallizer import CLIPRunner, BLIP2Runner, BLIPRunner\n",
    "\n",
    "import argparse\n",
    "from config import (\n",
    "    CLIP_BASE_PATCH_16,\n",
    "    CLIP_LARGE_PATCH_14,\n",
    "    BLIP_BASE_COCO,\n",
    "    BLIP_BASE_FLICKR,\n",
    "    BLIP2,\n",
    ")\n",
    "from config import config_args, add_flags_from_config\n",
    "import pandas as pd\n",
    "parser = argparse.ArgumentParser()\n",
    "for _, config_dict in config_args.items():\n",
    "    parser = add_flags_from_config(parser, config_dict)\n",
    "config, unknown = parser.parse_known_args()\n",
    "\n",
    "df = pd.DataFrame()\n",
    "\n",
    "\n",
    "model_dict = {\n",
    "    CLIP_BASE_PATCH_16:'CLIP_B',\n",
    "    CLIP_LARGE_PATCH_14:'CLIP_L',\n",
    "    BLIP_BASE_COCO:'BLIP',\n",
    "    BLIP_BASE_FLICKR:'BLIP',\n",
    "    BLIP2:'BLIP2',\n",
    "}\n",
    "for model_ckt in [\n",
    "    CLIP_BASE_PATCH_16,\n",
    "    CLIP_LARGE_PATCH_14,\n",
    "    BLIP_BASE_COCO,\n",
    "    BLIP2,\n",
    "]:\n",
    "    config.model_ckt = model_ckt\n",
    "    for algo in [\n",
    "        'PiToMe', \n",
    "        'ToMe',\n",
    "        'dct', \n",
    "        'baseline', \n",
    "    ]:\n",
    "        ratios = [1.0] if algo == 'none' else [\n",
    "            0.875, 0.9, 0.925, \n",
    "            0.95, 0.975\n",
    "            ] \n",
    "        for r in ratios:\n",
    "            config.r = r\n",
    "            if 'clip' in model_ckt:\n",
    "                visualizer = CLIPRunner(config, algorithms=algo)\n",
    "            elif 'blip2' in model_ckt: \n",
    "                visualizer = BLIP2Runner(config, algorithms=algo)\n",
    "            elif 'blip' in model_ckt: \n",
    "                visualizer = BLIPRunner(config, algorithms=algo)\n",
    "\n",
    "            metrics = visualizer.run()\n",
    "            metrics['algo'] = algo \n",
    "            metrics['model'] = model_dict[model_ckt]\n",
    "            df = pd.concat([df, pd.DataFrame(metrics,index=[0])]) \n",
    "\n"
   ]
  },
  {
   "cell_type": "code",
   "execution_count": 5,
   "metadata": {},
   "outputs": [],
   "source": [
    "df.to_csv('coco_results.csv')\n",
    "\n",
    "\n",
    "df = pd.read_csv('coco_results.csv')"
   ]
  },
  {
   "cell_type": "code",
   "execution_count": 6,
   "metadata": {},
   "outputs": [
    {
     "data": {
      "image/png": "[encoded data removed]",
      "text/plain": [
       "<Figure size 640x480 with 1 Axes>"
      ]
     },
     "metadata": {},
     "output_type": "display_data"
    }
   ],
   "source": [
    "import seaborn as sns\n",
    "import matplotlib.pyplot as plt\n",
    "\n",
    "# Sample data\n",
    "custom_marker = {'baseline':'o','PiToMe':'x', 'ToMe':'+', 'dct': 's'}\n",
    "custom_color = {'baseline':'gray','PiToMe':'red', 'ToMe':'blue', 'dct': 'green'}\n",
    "\n",
    "# Draw a line plot\n",
    "sns.lineplot(\n",
    "    x='gflops', \n",
    "    y='test/r_all', \n",
    "    style='algo',\n",
    "    hue='algo',\n",
    "    data=df[df['algo'].isin(['PiToMe', 'ToMe','dct'])], \n",
    "    markers=True, \n",
    "    # dashes=True,\n",
    "    # markers=custom_marker,\n",
    "    palette=custom_color,\n",
    ")\n",
    "\n",
    "sns.lineplot(\n",
    "    x='gflops', \n",
    "    y='test/r_all', \n",
    "    style='algo',\n",
    "    hue='algo',\n",
    "    data=df[df['algo']=='baseline'], \n",
    "    markers=True, \n",
    "    markersize=15,\n",
    "    palette=custom_color,\n",
    ")\n",
    "plt.text(df.loc[df['algo'] == 'baseline', 'gflops'].values[0],\n",
    "         df.loc[df['algo'] == 'baseline', 'test/r_all'].values[0],\n",
    "         'CLIP-B',\n",
    "         fontsize=12,\n",
    "         color='black',\n",
    "         ha='right', va='bottom')\n",
    "\n",
    "# Add text to the plot\n",
    "\n",
    "# Show the plot\n",
    "plt.show()\n"
   ]
  },
  {
   "cell_type": "code",
   "execution_count": null,
   "metadata": {},
   "outputs": [],
   "source": []
  }
 ],
 "metadata": {
  "kernelspec": {
   "display_name": "PiToMe",
   "language": "python",
   "name": "python3"
  },
  "language_info": {
   "codemirror_mode": {
    "name": "ipython",
    "version": 3
   },
   "file_extension": ".py",
   "mimetype": "text/x-python",
   "name": "python",
   "nbconvert_exporter": "python",
   "pygments_lexer": "ipython3",
   "version": "3.11.7"
  }
 },
 "nbformat": 4,
 "nbformat_minor": 2
}
