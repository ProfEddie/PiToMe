{
 "cells": [
  {
   "cell_type": "code",
   "execution_count": 10,
   "metadata": {},
   "outputs": [
    {
     "name": "stdout",
     "output_type": "stream",
     "text": [
      "Using downloaded and verified file: /media/caduser/MyBook/chau/.cache/flickr30k/annotations/train.json\n",
      "Using downloaded and verified file: /media/caduser/MyBook/chau/.cache/flickr30k/annotations/val.json\n",
      "Using downloaded and verified file: /media/caduser/MyBook/chau/.cache/flickr30k/annotations/test.json\n"
     ]
    }
   ],
   "source": [
    "from lavis.datasets.builders import load_dataset\n",
    "from lavis.models import load_model_and_preprocess\n",
    "from dotenv import load_dotenv\n",
    "from PIL import Image\n",
    "from scipy.ndimage import binary_erosion\n",
    "from typing import List, Tuple\n",
    "from algo import (\n",
    "    PITOME,\n",
    "    TOME,\n",
    "    DIFFRATE,\n",
    "    DCT,\n",
    "    TOFU,\n",
    "    LTMP,\n",
    "    NONE, \n",
    "    pitome,\n",
    "    tome,\n",
    "    DiffRate,\n",
    "    tofu,\n",
    "    # ltmp\n",
    ")\n",
    "import numpy as np\n",
    "import torch\n",
    "import torch.nn.functional as F\n",
    "\n",
    "\n",
    "FLICKR_PATH='/media/caduser/MyBook/chau/.cache/flickr30k/images'\n",
    "model, vis_processors, txt_processors = load_model_and_preprocess(\"blip_retrieval\", \"coco\", is_eval=False)\n",
    "dataset = load_dataset(\"flickr30k\", vis_path=FLICKR_PATH, cfg_path=None)\n"
   ]
  },
  {
   "cell_type": "code",
   "execution_count": 11,
   "metadata": {},
   "outputs": [],
   "source": [
    "\n",
    "from lavis.processors.base_processor import BaseProcessor\n",
    "from lavis.processors.randaugment import RandomAugment\n",
    "from omegaconf import OmegaConf\n",
    "from torchvision import transforms\n",
    "from torchvision.transforms.functional import InterpolationMode\n",
    "from lavis.processors.blip_processors import BlipImageBaseProcessor\n",
    "\n",
    "from main_vl import (\n",
    "    PITOME,\n",
    "    TOME, \n",
    "    TOFU, \n",
    "    DIFFRATE, \n",
    ")\n"
   ]
  },
  {
   "cell_type": "code",
   "execution_count": 12,
   "metadata": {},
   "outputs": [
    {
     "name": "stdout",
     "output_type": "stream",
     "text": [
      "using pitome\n",
      "using pitome\n"
     ]
    }
   ],
   "source": [
    "\n",
    "def get_model(model, algo, ratio):\n",
    "    if algo == PITOME:\n",
    "        pitome.patch.blip(model.visual_encoder,use_k=False, trace_source=True, output_attn=True)\n",
    "        pitome.patch.blip(model.visual_encoder_m,use_k=False, trace_source=True, output_attn=True)\n",
    "        model.visual_encoder.ratio=ratio\n",
    "        model.visual_encoder_m.ratio=ratio\n",
    "    elif algo == TOME:\n",
    "        tome.patch.blip(model.visual_encoder,use_k=False, trace_source=True)\n",
    "        tome.patch.blip(model.visual_encoder_m,use_k=False, trace_source=True)\n",
    "        model.visual_encoder.ratio=ratio\n",
    "        model.visual_encoder_m.ratio=ratio\n",
    "    elif algo == TOFU:\n",
    "        tofu.patch.blip(model.visual_encoder,use_k=False, trace_source=True)\n",
    "        tofu.patch.blip(model.visual_encoder_m,use_k=False, trace_source=True)\n",
    "        model.visual_encoder.ratio=ratio\n",
    "        model.visual_encoder_m.ratio=ratio\n",
    "    elif algo == DIFFRATE:\n",
    "        DiffRate.patch.blip(model.visual_encoder,use_k=False, trace_source=True)\n",
    "        DiffRate.patch.blip(model.visual_encoder_m,use_k=False, trace_source=True)\n",
    "        model.visual_encoder.init_kept_num_using_ratio(ratio)\n",
    "        model.visual_encoder_m.init_kept_num_using_ratio(ratio)\n",
    "\n",
    "\n",
    "get_model(model,PITOME, 0.9)"
   ]
  },
  {
   "cell_type": "code",
   "execution_count": 13,
   "metadata": {},
   "outputs": [
    {
     "data": {
      "text/plain": [
       "tensor([[[ 1.0879,  0.6764, -0.8212,  ..., -0.9351, -0.7611, -0.6236],\n",
       "         [ 0.5859, -0.7970, -0.0567,  ..., -0.0636, -0.2672, -0.0635],\n",
       "         [-0.4071, -0.4174, -0.4241,  ...,  0.0164,  0.3163, -0.4389],\n",
       "         ...,\n",
       "         [ 0.2687, -0.0155, -0.0849,  ..., -0.1346, -0.0079, -0.6976],\n",
       "         [-0.4349, -0.2339, -0.4489,  ...,  0.8445,  0.7293, -0.3285],\n",
       "         [ 0.3359, -0.2709, -0.4318,  ...,  0.6753, -0.0482, -0.2765]]],\n",
       "       grad_fn=<NativeLayerNormBackward0>)"
      ]
     },
     "execution_count": 13,
     "metadata": {},
     "output_type": "execute_result"
    }
   ],
   "source": [
    "class BlipImageEvalProcessor(BlipImageBaseProcessor):\n",
    "    def __init__(self, image_size=384, mean=None, std=None):\n",
    "        super().__init__(mean=mean, std=std)\n",
    "\n",
    "      \n",
    "        transform_list = [\n",
    "            transforms.Resize(\n",
    "                (image_size, image_size), interpolation=InterpolationMode.BICUBIC\n",
    "            ),\n",
    "        ]\n",
    "\n",
    "        # The visualization and model need different transforms\n",
    "        self.transform_vis  = transforms.Compose(transform_list)\n",
    "        self.transform = transforms.Compose(transform_list + [\n",
    "            transforms.ToTensor(),\n",
    "            self.normalize,\n",
    "        ])\n",
    "\n",
    "    def __call__(self, item):\n",
    "        return self.transform_vis(item), self.transform(item)\n",
    "\n",
    "    @classmethod\n",
    "    def from_config(cls, cfg=None):\n",
    "        if cfg is None:\n",
    "            cfg = OmegaConf.create()\n",
    "\n",
    "        image_size = cfg.get(\"image_size\", 384)\n",
    "\n",
    "        mean = cfg.get(\"mean\", None)\n",
    "        std = cfg.get(\"std\", None)\n",
    "\n",
    "        return cls(image_size=image_size, mean=mean, std=std)\n",
    "\n",
    "processor = BlipImageEvalProcessor() \n",
    "\n",
    "img = dataset['train'][0]['image']\n",
    "img_vis, img_input = processor(img)\n",
    "model.visual_encoder(img_input[None,...])"
   ]
  },
  {
   "cell_type": "code",
   "execution_count": 9,
   "metadata": {},
   "outputs": [
    {
     "data": {
      "text/plain": [
       "torch.Size([1, 12, 184, 184])"
      ]
     },
     "execution_count": 9,
     "metadata": {},
     "output_type": "execute_result"
    }
   ],
   "source": [
    "\n",
    "attn = model.visual_encoder.blocks[-1].attn.attention_map\n",
    "attn.shape"
   ]
  },
  {
   "cell_type": "code",
   "execution_count": 14,
   "metadata": {},
   "outputs": [
    {
     "name": "stdout",
     "output_type": "stream",
     "text": [
      "torch.Size([1, 184, 577])\n"
     ]
    }
   ],
   "source": [
    "source = model.visual_encoder._tome_info['source']\n",
    "\n",
    "print(source.shape)"
   ]
  },
  {
   "cell_type": "code",
   "execution_count": 17,
   "metadata": {},
   "outputs": [],
   "source": [
    "\n",
    "\n",
    "\n",
    "def generate_colormap(N: int, attention_score: torch.Tensor, seed: int = 0) -> List[Tuple[float, float, float]]:\n",
    "  \"\"\"\n",
    "  Generates a colormap with N elements, with a bolder blue base and lightness adjusted based on attention scores.\n",
    "\n",
    "  Args:\n",
    "      N: Number of colors to generate.\n",
    "      attention_score: A torch.Tensor representing the attention scores.\n",
    "          This will be used to modulate the lightness of the blue color.\n",
    "      seed: An optional integer seed for reproducibility.\n",
    "\n",
    "  Returns:\n",
    "      A list of tuples representing RGB color values (0.0 to 1.0).\n",
    "  \"\"\"\n",
    "\n",
    "\n",
    "\n",
    "  def adjust_lightness(attention_value):\n",
    "    normalized_attention = (attention_value - attention_score.min()) / (attention_score.max() - attention_score.min())\n",
    "    # lightness_adjustment =  normalized_attention  # Adjust factor for lightness range\n",
    "    base = (1.0, 1.0, 1.0)\n",
    "    adjusted_color = [base[0]-normalized_attention, base[1]-normalized_attention, base[2]]\n",
    "    return tuple(max(0.0, min(1.0, val)) for val in adjusted_color)\n",
    "\n",
    "  colormap = [adjust_lightness(attention_value) for attention_value in attention_score.flatten().tolist()]\n",
    "\n",
    "  return colormap\n",
    "\n",
    "\n",
    "def make_visualization(\n",
    "    img: Image, source: torch.Tensor, attention_score:torch.Tensor, patch_size: int = 16, class_token: bool = True\n",
    ") -> Image:\n",
    "    \"\"\"\n",
    "    Create a visualization like in the paper.\n",
    "\n",
    "    Args:\n",
    "     -\n",
    "\n",
    "    Returns:\n",
    "     - A PIL image the same size as the input.\n",
    "    \"\"\"\n",
    "\n",
    "    img = np.array(img.convert(\"RGB\")) / 255.0\n",
    "    source = source.detach().cpu()\n",
    "\n",
    "    h, w, _ = img.shape\n",
    "    ph = h // patch_size\n",
    "    pw = w // patch_size\n",
    "\n",
    "    if class_token:\n",
    "        source = source[:, :, 1:]\n",
    "    vis = source.argmax(dim=1)\n",
    "    num_groups = vis.max().item() + 1\n",
    "    print('num_group',num_groups)\n",
    "\n",
    "    cmap = generate_colormap(num_groups, attention_score)\n",
    "    vis_img = 0\n",
    "\n",
    "    for i in range(num_groups):\n",
    "        mask = (vis == i).float().view(1, 1, ph, pw)\n",
    "        mask = F.interpolate(mask, size=(h, w), mode=\"nearest\")\n",
    "        mask = mask.view(h, w, 1).numpy()\n",
    "\n",
    "        color = (mask * img).sum(axis=(0, 1)) / mask.sum()\n",
    "        mask_eroded = binary_erosion(mask[..., 0])[..., None]\n",
    "        mask_edge = mask - mask_eroded\n",
    "\n",
    "        if not np.isfinite(color).all():\n",
    "            color = np.zeros(3)\n",
    "\n",
    "        vis_img = vis_img + mask_eroded * color.reshape(1, 1, 3)\n",
    "        vis_img = vis_img + mask_edge * np.array(cmap[i]).reshape(1, 1, 3)\n",
    "\n",
    "    # Convert back into a PIL image\n",
    "    vis_img = Image.fromarray(np.uint8(vis_img * 255))\n",
    "\n",
    "    return vis_img\n"
   ]
  },
  {
   "cell_type": "code",
   "execution_count": 18,
   "metadata": {},
   "outputs": [
    {
     "name": "stdout",
     "output_type": "stream",
     "text": [
      "num_group 184\n"
     ]
    },
    {
     "name": "stderr",
     "output_type": "stream",
     "text": [
      "/tmp/ipykernel_34111/4007752166.py:63: RuntimeWarning: invalid value encountered in divide\n",
      "  color = (mask * img).sum(axis=(0, 1)) / mask.sum()\n"
     ]
    },
    {
     "data": {
      "image/jpeg": "[encoded data removed]",
      "image/png": "[encoded data removed]",
      "text/plain": [
       "<PIL.Image.Image image mode=RGB size=384x384>"
      ]
     },
     "execution_count": 18,
     "metadata": {},
     "output_type": "execute_result"
    }
   ],
   "source": [
    "make_visualization(img_vis, source, attn.sum(1)[:, 0, :], patch_size=16, class_token=True)"
   ]
  },
  {
   "cell_type": "code",
   "execution_count": null,
   "metadata": {},
   "outputs": [],
   "source": []
  }
 ],
 "metadata": {
  "kernelspec": {
   "display_name": "Python 3 (ipykernel)",
   "language": "python",
   "name": "python3"
  },
  "language_info": {
   "codemirror_mode": {
    "name": "ipython",
    "version": 3
   },
   "file_extension": ".py",
   "mimetype": "text/x-python",
   "name": "python",
   "nbconvert_exporter": "python",
   "pygments_lexer": "ipython3",
   "version": "3.11.7"
  }
 },
 "nbformat": 4,
 "nbformat_minor": 2
}
